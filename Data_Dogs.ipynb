{
 "cells": [
  {
   "cell_type": "code",
   "execution_count": 2,
   "id": "7f195775",
   "metadata": {},
   "outputs": [],
   "source": [
    "import os\n",
    "from tqdm import tqdm\n",
    "from PIL import Image\n",
    "import numpy as np"
   ]
  },
  {
   "cell_type": "markdown",
   "id": "9db46595",
   "metadata": {},
   "source": [
    "# PUG"
   ]
  },
  {
   "cell_type": "code",
   "execution_count": 24,
   "id": "d8d4dff9",
   "metadata": {},
   "outputs": [],
   "source": [
    "root1 = r\"C:\\Users\\omer-\\Downloads\\pugg\"\n",
    "root2 = r\"C:\\Users\\omer-\\Desktop\\dogs\\train\\pug\""
   ]
  },
  {
   "cell_type": "code",
   "execution_count": 25,
   "id": "f8da6004",
   "metadata": {},
   "outputs": [],
   "source": [
    "a = os.listdir(root1)\n",
    "for i in range(len(a)):\n",
    "    if (a[i][-4:]==\"html\"):\n",
    "        print(a[i])\n",
    "        os.remove((root1+\"\\{}\").format(a[i]))"
   ]
  },
  {
   "cell_type": "code",
   "execution_count": 26,
   "id": "48e9741b",
   "metadata": {},
   "outputs": [
    {
     "name": "stderr",
     "output_type": "stream",
     "text": [
      "100%|████████████████████████████████████████████████████████████████████████████████| 286/286 [00:14<00:00, 20.32it/s]\n"
     ]
    }
   ],
   "source": [
    "for i in tqdm(range(len(a))):\n",
    "    img = Image.open((root1+\"\\{}\").format(a[i]))\n",
    "    img.resize((256,256)).save(root2+\"\\{}.png\".format(i))"
   ]
  },
  {
   "cell_type": "code",
   "execution_count": 27,
   "id": "4c61932a",
   "metadata": {},
   "outputs": [],
   "source": [
    "root= r\"C:\\Users\\omer-\\Desktop\\dogs\\train\\pug\"\n",
    "root2=r\"C:\\Users\\omer-\\Desktop\\dogs\\train\\pug2\""
   ]
  },
  {
   "cell_type": "code",
   "execution_count": 28,
   "id": "f497b110",
   "metadata": {},
   "outputs": [
    {
     "name": "stderr",
     "output_type": "stream",
     "text": [
      "100%|████████████████████████████████████████████████████████████████████████████████| 222/222 [00:05<00:00, 44.19it/s]\n"
     ]
    }
   ],
   "source": [
    "a = os.listdir(root)\n",
    "for i in tqdm(range(len(a))):\n",
    "    img = Image.open((root+\"\\{}\").format(a[i]))\n",
    "    img.rotate(np.random.randint(10,350)).save((root2+\"\\{}.png\").format(len(a)+i))"
   ]
  },
  {
   "cell_type": "code",
   "execution_count": 29,
   "id": "5e6df8e1",
   "metadata": {},
   "outputs": [
    {
     "name": "stderr",
     "output_type": "stream",
     "text": [
      "100%|████████████████████████████████████████████████████████████████████████████████| 222/222 [00:05<00:00, 39.09it/s]\n"
     ]
    }
   ],
   "source": [
    "for i in tqdm(range(len(a))):\n",
    "    img = Image.open((root+\"\\{}\").format(a[i]))\n",
    "    img.transpose(Image.FLIP_LEFT_RIGHT).save((root2+\"\\{}.png\").format(len(a)+len(a)+i))"
   ]
  },
  {
   "cell_type": "markdown",
   "id": "5bf47b9e",
   "metadata": {},
   "source": [
    "Bu işlemlerden sonra transorma uğramış ve uğramamış dosyaları ctrl+x,ctrl+v ile birleştiriyorum"
   ]
  },
  {
   "cell_type": "markdown",
   "id": "984d45e4",
   "metadata": {},
   "source": [
    "# Golden Retriever"
   ]
  },
  {
   "cell_type": "code",
   "execution_count": 2,
   "id": "b30284c4",
   "metadata": {},
   "outputs": [],
   "source": [
    "root1 = r\"C:\\Users\\omer-\\Downloads\\golden\"\n",
    "root2 = r\"C:\\Users\\omer-\\Desktop\\dogs\\train\\golden\""
   ]
  },
  {
   "cell_type": "code",
   "execution_count": 3,
   "id": "d9de0f49",
   "metadata": {},
   "outputs": [],
   "source": [
    "a = os.listdir(root1)\n",
    "for i in range(len(a)):\n",
    "    if (a[i][-4:]==\"html\"):\n",
    "        print(a[i])\n",
    "        os.remove((root1+\"\\{}\").format(a[i]))"
   ]
  },
  {
   "cell_type": "code",
   "execution_count": 4,
   "id": "0fe7d8ae",
   "metadata": {},
   "outputs": [
    {
     "name": "stderr",
     "output_type": "stream",
     "text": [
      "100%|████████████████████████████████████████████████████████████████████████████████| 306/306 [00:15<00:00, 20.16it/s]\n"
     ]
    }
   ],
   "source": [
    "for i in tqdm(range(len(a))):\n",
    "    img = Image.open((root1+\"\\{}\").format(a[i]))\n",
    "    img.resize((256,256)).save(root2+\"\\{}.png\".format(i))"
   ]
  },
  {
   "cell_type": "code",
   "execution_count": 8,
   "id": "85e42e5a",
   "metadata": {},
   "outputs": [],
   "source": [
    "root= r\"C:\\Users\\omer-\\Desktop\\dogs\\train\\golden\"\n",
    "root2=r\"C:\\Users\\omer-\\Desktop\\dogs\\train\\golden2\""
   ]
  },
  {
   "cell_type": "code",
   "execution_count": 9,
   "id": "4ec6431a",
   "metadata": {},
   "outputs": [
    {
     "name": "stderr",
     "output_type": "stream",
     "text": [
      "100%|████████████████████████████████████████████████████████████████████████████████| 253/253 [00:05<00:00, 48.75it/s]\n"
     ]
    }
   ],
   "source": [
    "a = os.listdir(root)\n",
    "for i in tqdm(range(len(a))):\n",
    "    img = Image.open((root+\"\\{}\").format(a[i]))\n",
    "    img.rotate(np.random.randint(10,350)).save((root2+\"\\{}.png\").format(len(a)+i))"
   ]
  },
  {
   "cell_type": "code",
   "execution_count": 10,
   "id": "f8c5fc3d",
   "metadata": {},
   "outputs": [
    {
     "name": "stderr",
     "output_type": "stream",
     "text": [
      "100%|████████████████████████████████████████████████████████████████████████████████| 253/253 [00:06<00:00, 40.02it/s]\n"
     ]
    }
   ],
   "source": [
    "for i in tqdm(range(len(a))):\n",
    "    img = Image.open((root+\"\\{}\").format(a[i]))\n",
    "    img.transpose(Image.FLIP_LEFT_RIGHT).save((root2+\"\\{}.png\").format(len(a)+len(a)+i))"
   ]
  },
  {
   "cell_type": "markdown",
   "id": "2d4e0772",
   "metadata": {},
   "source": [
    "Bu işlemlerden sonra transorma uğramış ve uğramamış dosyaları ctrl+x,ctrl+v ile birleştiriyorum"
   ]
  },
  {
   "cell_type": "markdown",
   "id": "cd899bdc",
   "metadata": {},
   "source": [
    "# Husky"
   ]
  },
  {
   "cell_type": "markdown",
   "id": "d2eab3ca",
   "metadata": {},
   "source": [
    "Huskyi kodu deneme kısmında yaptım ve işlem uzun sürdüğünden dolayı bir daha koymuyorum"
   ]
  },
  {
   "cell_type": "code",
   "execution_count": 39,
   "id": "e90a249f",
   "metadata": {},
   "outputs": [],
   "source": [
    "root1 = r\"C:\\Users\\omer-\\Desktop\\dogs\\test\\husky\"\n",
    "root2 = r\"C:\\Users\\omer-\\Desktop\\dogs\\test\\husky2\""
   ]
  },
  {
   "cell_type": "code",
   "execution_count": 40,
   "id": "0461e38d",
   "metadata": {},
   "outputs": [],
   "source": [
    "a = os.listdir(root1)"
   ]
  },
  {
   "cell_type": "code",
   "execution_count": 41,
   "id": "6a8d7578",
   "metadata": {},
   "outputs": [
    {
     "name": "stderr",
     "output_type": "stream",
     "text": [
      "100%|██████████████████████████████████████████████████████████████████████████████████| 50/50 [00:02<00:00, 17.68it/s]\n"
     ]
    }
   ],
   "source": [
    "for i in tqdm(range(len(a))):\n",
    "    img = Image.open((root1+\"\\{}\").format(a[i]))\n",
    "    img.resize((256,256)).save(root2+\"\\{}.png\".format(i))"
   ]
  },
  {
   "cell_type": "code",
   "execution_count": null,
   "id": "fcaf6672",
   "metadata": {},
   "outputs": [],
   "source": []
  }
 ],
 "metadata": {
  "kernelspec": {
   "display_name": "Python 3 (ipykernel)",
   "language": "python",
   "name": "python3"
  },
  "language_info": {
   "codemirror_mode": {
    "name": "ipython",
    "version": 3
   },
   "file_extension": ".py",
   "mimetype": "text/x-python",
   "name": "python",
   "nbconvert_exporter": "python",
   "pygments_lexer": "ipython3",
   "version": "3.9.7"
  }
 },
 "nbformat": 4,
 "nbformat_minor": 5
}
